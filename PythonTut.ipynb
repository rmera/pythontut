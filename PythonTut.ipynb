{
 "cells": [
  {
   "cell_type": "markdown",
   "metadata": {},
   "source": [
    "# Python basico para scripts breves\n",
    "\n",
    "## Nota\n",
    "Python es un lenguaje relativamente antiguo y, en los ultimos anios (o, en las ultimas decadas) ha cambiado bastante. Originalmente, su lema era \"una sola forma, y obvia, de hacer cada cosa\" (traduccion libre de \"_there is only one obvius way to do it_\"). En el Python actual, ese lema parece una broma cruel. Hay varias maneras de crear una lista, leer un archivo, etc. Incluso hay dos maneras de formatear texto! \n",
    "\n",
    "En mi caso, empece a usar Python entre 2005-2006. El Python que enseno, es basicamente el que uso desde ese entonces (claro que, adaptado a Python 3). No soy partidario de agregar cosas redundantes a un lenguaje, y, por tanto, preferi cenirme a lo que ya existia. Por esta razon, en esta guia no se ensena la forma \"RAII\" de leer archivos (**with**) ni la forma \"recomendada\" de formatear texto.\n",
    "\n",
    "Por otra parte, esta guia esta pensada para Python como lenguaje de _scripting_, para automatizar trabajos breves, no para escribir programas largos. Eso es todo lo que necesita la gran mayoria de los usuarios del area de las Ciencias Naturales y, en mi opinion, Python no es un lenguaje apropiado para programas complejos, de todos modos. Por esto, no se incluyen temas como programacion orientada a objetos.\n",
    "\n",
    "---\n",
    "\n"
   ]
  },
  {
   "cell_type": "markdown",
   "metadata": {},
   "source": [
    "\n",
    "Un programa es basicamente un conjunto de instrucciones, una despues de otra, que el computador \"ejecuta\" en orden.\n",
    "Esas instrucciones normalmente incluyen manipular valores (numeros o textos) guardados en la memoria. Esos valores se guardan en variables\n"
   ]
  },
  {
   "cell_type": "code",
   "execution_count": null,
   "metadata": {},
   "outputs": [],
   "source": [
    "#una parte importante de un programa son los comentarios\n",
    "#todo lo que venga despues de '#' es un comentario, y es completamente\n",
    "#ignorado por el computador. Existe solamente para ayudarnos a entender\n",
    "#el programa"
   ]
  },
  {
   "cell_type": "markdown",
   "metadata": {},
   "source": [
    "En linux, todo programa en python comienza con lo siguiente:"
   ]
  },
  {
   "cell_type": "code",
   "execution_count": null,
   "metadata": {},
   "outputs": [],
   "source": [
    "#!/usr/bin/env pyhton"
   ]
  },
  {
   "cell_type": "markdown",
   "metadata": {},
   "source": [
    "Esto no es realmente parte del programa. Es para que el sistema operativo sepa que este archivo contiene un programa escrito en Pythong.\n",
    "\n",
    "\n",
    "## la funcion print\n",
    "\n",
    "Esta funcion nos muestra algo en la pantalla. Si queremos que nos muestre texto, tenemos que ponerlo entre comillas. Fijense que cada llamado a **print** imprime texto en una linea separada. Es decir, **print** agrega un _salto de linea_ a todo lo que imprime."
   ]
  },
  {
   "cell_type": "code",
   "execution_count": null,
   "metadata": {},
   "outputs": [],
   "source": [
    "print(\"Hola, mundo!\")\n",
    "\n",
    "print(\"Estimadas\")\n",
    "print(\"y estimados\")"
   ]
  },
  {
   "cell_type": "markdown",
   "metadata": {},
   "source": [
    "## variables\n",
    "\n",
    "Una variable es un nombre que lleva asociado un valor"
   ]
  },
  {
   "cell_type": "code",
   "execution_count": null,
   "metadata": {},
   "outputs": [],
   "source": [
    "a = 2 # a es una variable que contiene el valor 2\n",
    "\n",
    "print(a)\n",
    "\n",
    "#en general, voy a usar a, b, c, d, etc. como nombres de variables, pero una variable puede\n",
    "#tener casi cualquier nombre!\n",
    "\n",
    "numero = 4.5  #numero es una variable que contiene el valor 4.5\n",
    "\n",
    "EJEMPLO = 10 #los nombrmes de variables pueden ser casi cualquier, con tal de que parta con una letra\n",
    "#y que no tenga \"simbolos\"\n",
    "\n",
    "ejemplo2 = 6 #los nombres de variables pueden contener numeros, pero no pueden empezar con numeros\n",
    "\n"
   ]
  },
  {
   "cell_type": "code",
   "execution_count": 7,
   "metadata": {},
   "outputs": [
    {
     "name": "stderr",
     "output_type": "stream",
     "text": [
      "UsageError: Line magic function `%variableerronea` not found.\n"
     ]
    }
   ],
   "source": [
    "%variableerronea = 5 #esto va a dar error, la variable no puede contener simbolos"
   ]
  },
  {
   "cell_type": "code",
   "execution_count": 8,
   "metadata": {},
   "outputs": [
    {
     "ename": "SyntaxError",
     "evalue": "invalid decimal literal (<ipython-input-8-a9879bd728cb>, line 1)",
     "output_type": "error",
     "traceback": [
      "\u001b[0;36m  File \u001b[0;32m\"<ipython-input-8-a9879bd728cb>\"\u001b[0;36m, line \u001b[0;32m1\u001b[0m\n\u001b[0;31m    4you = 56 #esto tambien va a dar error\u001b[0m\n\u001b[0m    ^\u001b[0m\n\u001b[0;31mSyntaxError\u001b[0m\u001b[0;31m:\u001b[0m invalid decimal literal\n"
     ]
    }
   ],
   "source": [
    "4you = 56 #esto tambien va a dar error, la variable no puede partir con numero"
   ]
  },
  {
   "cell_type": "code",
   "execution_count": 11,
   "metadata": {},
   "outputs": [
    {
     "ename": "SyntaxError",
     "evalue": "invalid syntax (<ipython-input-11-195c871db242>, line 1)",
     "output_type": "error",
     "traceback": [
      "\u001b[0;36m  File \u001b[0;32m\"<ipython-input-11-195c871db242>\"\u001b[0;36m, line \u001b[0;32m1\u001b[0m\n\u001b[0;31m    for = 8 #finalmente, hay palabras \"reservadas\" que son parte del lenguaje Python, y no se pueden usar\u001b[0m\n\u001b[0m        ^\u001b[0m\n\u001b[0;31mSyntaxError\u001b[0m\u001b[0;31m:\u001b[0m invalid syntax\n"
     ]
    }
   ],
   "source": [
    "for = 8 #finalmente, hay palabras \"reservadas\" que son parte del lenguaje Python, y no se pueden usar \n",
    "#como nombres de variables. \"for\" es una palabra reservada, asi es que esto va a dar error (mas adelante \n",
    "#vamos a ver que significa \"for\" en el lenguaje!)"
   ]
  },
  {
   "cell_type": "markdown",
   "metadata": {},
   "source": [
    "Hay varios tipos de variable:\n",
    "\n",
    "### Variables 'simples'\n",
    "\n",
    "#### Variables numericas\n",
    "\n",
    "Almacenan valores numericos. Hay dos tipos: int y float. Int contiene numeros enteros, float, contiene numeros con parte decimal\n",
    "\n",
    "\n"
   ]
  },
  {
   "cell_type": "code",
   "execution_count": 1,
   "metadata": {},
   "outputs": [
    {
     "name": "stdout",
     "output_type": "stream",
     "text": [
      "17.5\n"
     ]
    }
   ],
   "source": [
    "a = 2 #int\n",
    "\n",
    "b = 14.5 #float\n",
    "\n",
    "c = a + b  #Si una operacion combina int y float, a es implicitamente transformado a float y c va a ser float\n",
    "\n",
    "print(c)\n",
    "\n"
   ]
  },
  {
   "cell_type": "markdown",
   "metadata": {},
   "source": [
    "Python soporta varias \"operaciones\" entre variables numericas. Basicamente, todas las operaciones aritmeticas como suma (+) multiplicacion (\\*), division (/), y otras. La _precedencia_ de los operadores es la que uno espera (multiplicacion tiene mas precedencia que suma, etc). Cuando tenemos dudas acerca de la precedencia de operadores, podemos usar parentesis para asegurarnos y hacer nuestro codigo mas claro\n"
   ]
  },
  {
   "cell_type": "code",
   "execution_count": 5,
   "metadata": {},
   "outputs": [
    {
     "name": "stdout",
     "output_type": "stream",
     "text": [
      "suma 7\n",
      "resta -1\n",
      "multiplicacion 12\n",
      "potencia 81\n",
      "division 3.5\n",
      "division entera 3.0\n",
      "resto 1\n",
      "Operacion combinada 31.875\n"
     ]
    }
   ],
   "source": [
    "a = 3\n",
    "b = 4\n",
    "c = 10.5\n",
    "\n",
    "print(\"suma\", a+b)\n",
    "print(\"resta\", a-b)\n",
    "print(\"multiplicacion\", a*b)\n",
    "print(\"potencia\", a**b) #a elevado a b\n",
    "print(\"division\", c/a) #esta division convierte el resultado en \"float\" si es necesario\n",
    "print(\"division entera\", c//a) #division entera, simplemente desprecia la parte decimal del resultado\n",
    "print(\"resto\", b%a) #resto de la division entre a y b\n",
    "print(\"Operacion combinada\", a*c-c/b+a) # notese la precedencia \n",
    "#de * y / sobre + y -\n"
   ]
  },
  {
   "cell_type": "markdown",
   "metadata": {},
   "source": [
    "Podemos asignar el resultado de una operacion a otra variable"
   ]
  },
  {
   "cell_type": "code",
   "execution_count": 6,
   "metadata": {},
   "outputs": [
    {
     "name": "stdout",
     "output_type": "stream",
     "text": [
      "12\n",
      "-7.0\n",
      "1\n",
      "2\n"
     ]
    }
   ],
   "source": [
    "a = 15\n",
    "b = 3\n",
    "c = a - b\n",
    "print(c)\n",
    "c = a/b -c #notese que aca la variable c aparece a los dos lados de la asignacion!\n",
    "print(c)\n",
    "#aca vemos otro ejemplo de como una variable puede participar en una expresion\n",
    "#que se asigna a esa misma variable.\n",
    "d = 1\n",
    "print(d)\n",
    "d = d +1\n",
    "print(d)"
   ]
  },
  {
   "cell_type": "markdown",
   "metadata": {},
   "source": [
    "Los simbolos que usamos para cada operacion (como -, +, \\*) se denominan _operadores_"
   ]
  },
  {
   "cell_type": "markdown",
   "metadata": {},
   "source": [
    "#### Variables de tipo texto\n",
    "\n",
    "Estas variables no contienen numeros, sino, bueno, texto :-) las variables de tipo texto son cualquier cadena de texto delimitada por comillas\n"
   ]
  },
  {
   "cell_type": "code",
   "execution_count": 12,
   "metadata": {},
   "outputs": [
    {
     "name": "stdout",
     "output_type": "stream",
     "text": [
      "Hola\n",
      "Hola amigos!\n"
     ]
    }
   ],
   "source": [
    "a = \"Hola\" #a es una variable de tipo texto\n",
    "\n",
    "print(a) #podemos imprimirla en pantalla igual que un numero\n",
    "\n",
    "b = \" amigos!\"\n",
    "\n",
    "c = a+b # si usamos el operador suma (+) sobre dos variables de texto, las va a concatenar\n",
    "print(a+b) \n",
    "\n",
    "\n"
   ]
  },
  {
   "cell_type": "code",
   "execution_count": 13,
   "metadata": {},
   "outputs": [
    {
     "ename": "TypeError",
     "evalue": "can only concatenate str (not \"int\") to str",
     "output_type": "error",
     "traceback": [
      "\u001b[0;31m---------------------------------------------------------------------------\u001b[0m",
      "\u001b[0;31mTypeError\u001b[0m                                 Traceback (most recent call last)",
      "\u001b[0;32m<ipython-input-13-9da1d2c12900>\u001b[0m in \u001b[0;36m<module>\u001b[0;34m\u001b[0m\n\u001b[1;32m      2\u001b[0m \u001b[0mnumero\u001b[0m \u001b[0;34m=\u001b[0m\u001b[0;36m1\u001b[0m\u001b[0;34m\u001b[0m\u001b[0;34m\u001b[0m\u001b[0m\n\u001b[1;32m      3\u001b[0m \u001b[0;34m\u001b[0m\u001b[0m\n\u001b[0;32m----> 4\u001b[0;31m \u001b[0mprint\u001b[0m\u001b[0;34m(\u001b[0m\u001b[0mtexto\u001b[0m\u001b[0;34m+\u001b[0m\u001b[0mnumero\u001b[0m\u001b[0;34m)\u001b[0m \u001b[0;31m#si tratamos de mezclar texto con numero en una operacion, se va a producir un error\u001b[0m\u001b[0;34m\u001b[0m\u001b[0;34m\u001b[0m\u001b[0m\n\u001b[0m",
      "\u001b[0;31mTypeError\u001b[0m: can only concatenate str (not \"int\") to str"
     ]
    }
   ],
   "source": [
    "texto = \"hola!\"\n",
    "numero =1\n",
    "\n",
    "print(texto+numero) #si tratamos de mezclar texto con numero en una operacion, se va a producir un error"
   ]
  },
  {
   "cell_type": "markdown",
   "metadata": {},
   "source": [
    "Las variables de texto son mas \"complejas\" que las variables numericas, en el sentido de que se puede acceder a una parte de ellas. "
   ]
  },
  {
   "cell_type": "code",
   "execution_count": 15,
   "metadata": {},
   "outputs": [
    {
     "name": "stdout",
     "output_type": "stream",
     "text": [
      "h\n",
      "m\n"
     ]
    }
   ],
   "source": [
    "a = \"Hola amigos!\"\n",
    "\n",
    "print(a[0]) # a[0] es la primera letra de la variable a.\n",
    "print(a[6]) #a[6] es la septima letra (cada espacio en blanco cuenta como una letra)\n",
    "\n",
    "#notese que los indices parten de 0: el primera valor es a[0], el segundo es a[1], etc.\n",
    "\n"
   ]
  },
  {
   "cell_type": "markdown",
   "metadata": {},
   "source": [
    "Tambien podemos acceder a una letra o caracter de una cadena de texto desde atras hacia adelante.\n",
    "**a[-1]** representa el ultimo caracter de **a**, **a[-2]** el penultimo, etc.\n",
    "\n"
   ]
  },
  {
   "cell_type": "code",
   "execution_count": null,
   "metadata": {},
   "outputs": [],
   "source": [
    "ejemplo = \"Hola a todo el mundo!\"\n",
    "\n",
    "print(ejemplo[-1])\n",
    "print(ejemplo[-3])\n"
   ]
  },
  {
   "cell_type": "markdown",
   "metadata": {},
   "source": [
    "Finalmente, podemos acceder no solamente a una letra o caracter de la cadena de texto, sino a una sub-cadena\n",
    "con varios caracteres\n"
   ]
  },
  {
   "cell_type": "code",
   "execution_count": 1,
   "metadata": {},
   "outputs": [
    {
     "name": "stdout",
     "output_type": "stream",
     "text": [
      "ola a \n"
     ]
    }
   ],
   "source": [
    "ejemplo = \"Hola a todo el mundo!\"\n",
    "\n",
    "b = ejemplo[1:7] #los caracteres entre b[1] y b[7], sin incluir a este ultimo. \n",
    "#Recueden que b[1] es el segundo caracter\\\n",
    "\n",
    "print(b) #b contiene la sub-cadena \"ola a\", que es una cadena de texto por si misma."
   ]
  },
  {
   "cell_type": "markdown",
   "metadata": {},
   "source": [
    "Un caracter especial es \"\\\\n\" que simboliza un salto de linea"
   ]
  },
  {
   "cell_type": "code",
   "execution_count": 4,
   "metadata": {},
   "outputs": [
    {
     "name": "stdout",
     "output_type": "stream",
     "text": [
      "Dos lineas\n",
      "de texto\n"
     ]
    }
   ],
   "source": [
    "var = \"Dos lineas\\nde texto\"\n",
    "print(var)"
   ]
  },
  {
   "cell_type": "markdown",
   "metadata": {},
   "source": [
    "#### Variables booleanas\n",
    "\n",
    "Otro tipo de variables son las variables _booleanas_. Estas son variables especiales que solamente pueden contener dos valores: **True** (verdadero) o **False** (falso). \n",
    "\n",
    "Estas variables soportan tres operadores especiales, que solamente funcionan con variables booleanes. Estos operadores son:\n",
    "\n",
    "- and\n",
    "- or\n",
    "- not"
   ]
  },
  {
   "cell_type": "code",
   "execution_count": 2,
   "metadata": {},
   "outputs": [
    {
     "name": "stdout",
     "output_type": "stream",
     "text": [
      "True False\n",
      "False\n",
      "True\n"
     ]
    }
   ],
   "source": [
    "var = True\n",
    "var2 = False  #var y var2 son variables booleanas\n",
    "print(var,var2)\n",
    "\n",
    "var3 = var and var2 #esta operacion da como resultado True solamente si var y var2 son True\n",
    "print(var3)\n",
    "var3 = var or var2 #esta operacion da resultado True si var o var2 son True\n",
    "print(var3)\n",
    "var3 = not var2 #esta operacion da como resultado True si var2 es False, y False si var2 es True\n"
   ]
  },
  {
   "cell_type": "markdown",
   "metadata": {},
   "source": [
    "Existen operaciones que \"operan\" sobre variables _no_ booleanas (numericas, de texto, etc) pero que entregan resultados que si son booleanos. Estas son las operaciones de _comparacion_, que nos permiten comparar dos variables:\n",
    "\n",
    "- \\> (mayor que)\n",
    "- \\< (menor que)\n",
    "- \\>= (mayor o igual que)\n",
    "- \\<= (menor o igual que)\n",
    "- == (igual a)\n",
    "- != (no igual a)\n"
   ]
  },
  {
   "cell_type": "code",
   "execution_count": 8,
   "metadata": {},
   "outputs": [
    {
     "name": "stdout",
     "output_type": "stream",
     "text": [
      "False\n",
      "False\n",
      "False\n",
      "False\n",
      "True\n"
     ]
    }
   ],
   "source": [
    "a=1\n",
    "b=2\n",
    "d = 3\n",
    "c=\"Hola\"\n",
    "d = \"Chao\"\n",
    "\n",
    "\n",
    "print(a==b) #False, a y b no son iguales\n",
    "print(d == (a+b)) #verdadero (True)\n",
    "print(a>=b) #False, a no es mayor o igual que b\n",
    "print(c==d) #False, ambas cadenas no son iguales\n",
    "print(c>d) #Esto se puede hacer, y de True, porque c comienza con una letra \"mayor\" en el abecedario que d\n",
    "#pero, en general, recomiendo no usar >,<,>=,<= con text y limitarse a preguntar si son iguales.\n",
    "\n",
    "print(c[1]==d[-1]) #True (verdadero), tanto c[1] como d[-1] contienen el mismo caracter, \"o\"\n",
    "\n",
    "print(\"HOLA\"==c) #esto es False (falso) porque c contiene \"Hola\" que no es igual a \"HOLA\".\n",
    "#Python distingue entre letras mayusculas y minusculas."
   ]
  },
  {
   "cell_type": "markdown",
   "metadata": {},
   "source": [
    "Las variables que hemos visto hasta ahora tienen algo en comun. Son *inmutables*. Eso significa que, una vez \n",
    "que se les asigna un valor, este no puede cambiar."
   ]
  },
  {
   "cell_type": "code",
   "execution_count": null,
   "metadata": {},
   "outputs": [],
   "source": [
    "var = 1 #ya no es posible asignar otro valor a la variable var\n",
    "\n",
    "var =2 #entonces como esto funciona sin errores?\n",
    "\n",
    "print(var) "
   ]
  },
  {
   "cell_type": "markdown",
   "metadata": {},
   "source": [
    "La respuesta es que lo que hacemos en la linea 3 del ejemplo anterior no es realmente asignar otro valor a la variable **var**. Lo que ocurre en la linea 3 es que la variable **var** que habiamos definido en la linea 1 es destruida, y se crea _otra_ variable con el mismo nombre, pero con otro valor, y que reside en una direccion diferente en la memoria.\n",
    "\n",
    "El hecho de que estas variables efectivamente no se pueden cambiar, podemos comprobarlo si tratamos de cambiar _una parte_ de una variable de texto."
   ]
  },
  {
   "cell_type": "code",
   "execution_count": 1,
   "metadata": {},
   "outputs": [
    {
     "ename": "TypeError",
     "evalue": "'str' object does not support item assignment",
     "output_type": "error",
     "traceback": [
      "\u001b[0;31m---------------------------------------------------------------------------\u001b[0m",
      "\u001b[0;31mTypeError\u001b[0m                                 Traceback (most recent call last)",
      "\u001b[0;32m<ipython-input-1-127afb8ca17d>\u001b[0m in \u001b[0;36m<module>\u001b[0;34m\u001b[0m\n\u001b[1;32m      1\u001b[0m \u001b[0mvar\u001b[0m \u001b[0;34m=\u001b[0m \u001b[0;34m\"Hola amigas!\"\u001b[0m\u001b[0;34m\u001b[0m\u001b[0;34m\u001b[0m\u001b[0m\n\u001b[1;32m      2\u001b[0m \u001b[0;34m\u001b[0m\u001b[0m\n\u001b[0;32m----> 3\u001b[0;31m \u001b[0mvar\u001b[0m\u001b[0;34m[\u001b[0m\u001b[0;34m-\u001b[0m\u001b[0;36m3\u001b[0m\u001b[0;34m]\u001b[0m\u001b[0;34m=\u001b[0m\u001b[0;34m\"o\"\u001b[0m \u001b[0;31m#tratamos de cambiar \"Hola amigas!\" por \"Hola amigos!\", pero esto va a dar\u001b[0m\u001b[0;34m\u001b[0m\u001b[0;34m\u001b[0m\u001b[0m\n\u001b[0m\u001b[1;32m      4\u001b[0m \u001b[0;31m#un error, porque las cadenas de texto son inmutables.\u001b[0m\u001b[0;34m\u001b[0m\u001b[0;34m\u001b[0m\u001b[0m\n",
      "\u001b[0;31mTypeError\u001b[0m: 'str' object does not support item assignment"
     ]
    }
   ],
   "source": [
    "var = \"Hola amigas!\"\n",
    "\n",
    "var[-3]=\"o\" #tratamos de cambiar \"Hola amigas!\" por \"Hola amigos!\", pero esto va a dar \n",
    "#un error, porque las cadenas de texto son inmutables."
   ]
  },
  {
   "cell_type": "markdown",
   "metadata": {},
   "source": [
    "Lo unico que podemos hacer es reemplazar la cadena de texto original por otra variable con el mismo nombre, pero no podemos alterar la variable en si.\n"
   ]
  },
  {
   "cell_type": "code",
   "execution_count": null,
   "metadata": {},
   "outputs": [],
   "source": [
    "var = \"Hola amigos!\"\n",
    "print(var)\n",
    "var = \"Hola amigas y amigos!\" #esto no da error, porque no cambiamos la variable\n",
    "#si no que la reemplazamos por otra con el mismo nombre\n",
    "print(var)\n"
   ]
  },
  {
   "cell_type": "markdown",
   "metadata": {},
   "source": [
    "### Conversiones de tipos\n",
    "\n",
    "En muchos casos, se quiere convertir una variable en otra, de otro tipo. Por ejemplo, la variable \"2\" no es el numero 2, sino que es una cadena de texto que dice 2 Si queremos usarla como numero, tenemos que convertirla\n"
   ]
  },
  {
   "cell_type": "code",
   "execution_count": 15,
   "metadata": {},
   "outputs": [
    {
     "name": "stdout",
     "output_type": "stream",
     "text": [
      "23\n",
      "5\n"
     ]
    }
   ],
   "source": [
    "tvar=\"2\" # variable de texto\n",
    "tvar2=\"3\" #texto\n",
    "print(tvar+tvar2) #esto no da 5, sino \"23\", puesto que tvar y tvar2 son cadenas de caracter,\n",
    "#al \"sumarlas\" Python las concatena.\n",
    "\n",
    "var=int(tvar)  #asi convertimos una variable en un numero entero.\n",
    "var2=int(tvar2)\n",
    "print(var+var2) #ahora si la suma da 5\n",
    "\n"
   ]
  },
  {
   "cell_type": "code",
   "execution_count": 18,
   "metadata": {},
   "outputs": [
    {
     "name": "stdout",
     "output_type": "stream",
     "text": [
      "2.22.2\n",
      "4.4\n"
     ]
    }
   ],
   "source": [
    "tvar= \"2.2\" #esto no es un numero, es un texto\n",
    "print(tvar*2) #esto no multiplica 2.2 por dos, sino que duplica la cadena de texto\n",
    "\n",
    "fvar=float(tvar) #transformamos el texto en un \"float\" y se lo asignamos a fvar\n",
    "\n",
    "print(fvar*2) #ahora si obtenemos el resultado esperado"
   ]
  },
  {
   "cell_type": "code",
   "execution_count": 20,
   "metadata": {},
   "outputs": [
    {
     "ename": "ValueError",
     "evalue": "invalid literal for int() with base 10: '2.2'",
     "output_type": "error",
     "traceback": [
      "\u001b[0;31m---------------------------------------------------------------------------\u001b[0m",
      "\u001b[0;31mValueError\u001b[0m                                Traceback (most recent call last)",
      "Input \u001b[0;32mIn [20]\u001b[0m, in \u001b[0;36m<cell line: 3>\u001b[0;34m()\u001b[0m\n\u001b[1;32m      1\u001b[0m tvar\u001b[38;5;241m=\u001b[39m\u001b[38;5;124m\"\u001b[39m\u001b[38;5;124m2.2\u001b[39m\u001b[38;5;124m\"\u001b[39m\n\u001b[0;32m----> 3\u001b[0m intvar \u001b[38;5;241m=\u001b[39m \u001b[38;5;28mint\u001b[39m(tvar)\n",
      "\u001b[0;31mValueError\u001b[0m: invalid literal for int() with base 10: '2.2'"
     ]
    }
   ],
   "source": [
    "tvar=\"2.2\"\n",
    "\n",
    "intvar = int(tvar) #Error! el texto \"2.2\" no puede convertirse en un numero entero, solo en un float"
   ]
  },
  {
   "cell_type": "code",
   "execution_count": 19,
   "metadata": {},
   "outputs": [
    {
     "ename": "ValueError",
     "evalue": "invalid literal for int() with base 10: 'hola!'",
     "output_type": "error",
     "traceback": [
      "\u001b[0;31m---------------------------------------------------------------------------\u001b[0m",
      "\u001b[0;31mValueError\u001b[0m                                Traceback (most recent call last)",
      "Input \u001b[0;32mIn [19]\u001b[0m, in \u001b[0;36m<cell line: 3>\u001b[0;34m()\u001b[0m\n\u001b[1;32m      1\u001b[0m tvar\u001b[38;5;241m=\u001b[39m\u001b[38;5;124m\"\u001b[39m\u001b[38;5;124mhola!\u001b[39m\u001b[38;5;124m\"\u001b[39m\n\u001b[0;32m----> 3\u001b[0m intvar\u001b[38;5;241m=\u001b[39m\u001b[38;5;28mint\u001b[39m(tvar)\n",
      "\u001b[0;31mValueError\u001b[0m: invalid literal for int() with base 10: 'hola!'"
     ]
    }
   ],
   "source": [
    "tvar=\"hola!\"\n",
    "\n",
    "intvar=int(tvar) #otro error! el texto \"hola!\" no se puede convertir en numero"
   ]
  },
  {
   "cell_type": "markdown",
   "metadata": {},
   "source": [
    "### Colecciones\n",
    "\n",
    "Las colecciones son variables que representan \"conjuntos\" de otras variables. Vamos a ver algunas que se usan con frecuencia.\n",
    "\n",
    "#### Listas\n",
    "\n",
    "Tal vez la coleccion mas usada. Una lista es una coleccion de variables que se ubican en orden, de modo tal que podemos acceder a cada variable si conocemos su orden en la lista.\n",
    "\n",
    "Para crear una lista, simplemente ponemos las variables que queremos que formen parte de esta en el orden deseado, separadas por comas, y rodeadas de corchetes (\"**\\[**\" y \"**\\]**\")\n"
   ]
  },
  {
   "cell_type": "code",
   "execution_count": 7,
   "metadata": {
    "scrolled": true
   },
   "outputs": [
    {
     "name": "stdout",
     "output_type": "stream",
     "text": [
      "[1, 2, 3, 4, 5, 6, 7]\n",
      "3\n",
      "6\n",
      "[3, 4, 5]\n"
     ]
    }
   ],
   "source": [
    "listita = [1,2,3,4,5,6,7] #\"la variable \"listita\" es una lista\n",
    "\n",
    "print(listita) #imprimimos toda la lista\n",
    "\n",
    "print(listita[2]) # podemos acceder a un elemento de la lista si conocemos su posicion. \n",
    "#esto funciona igual que en las cadenas de texto. Los indices tambien parten desde 0\n",
    "#por lo que listita[2] es el tercer elemento de la lista.\n",
    "\n",
    "print(listita[-2]) #Tambien podemos usar indices \"inversos\" como en cadenas de text\n",
    "\n",
    "print(listita[2:5]) #exactamente igual que con el texto, eso nos da una sub-lista\n",
    "#con los elementos del 2 al 5 (excluyendo este ultimo). Esta sub-lista es tambien\n",
    "#una lista por si misma.\n"
   ]
  },
  {
   "cell_type": "markdown",
   "metadata": {},
   "source": [
    "A diferencia de las variables que hemos visto hasta ahora, las listas pueden modificarse. Se dice que son \"mutables\"."
   ]
  },
  {
   "cell_type": "code",
   "execution_count": 1,
   "metadata": {},
   "outputs": [
    {
     "name": "stdout",
     "output_type": "stream",
     "text": [
      "[1, 2, 20, 4, 5, 6, 7]\n",
      "[1, 2, 20, 'hola!', 5, 6, 7]\n",
      "[1, [10, 11, 12], 20, 'hola!', 5, 6, 7]\n"
     ]
    }
   ],
   "source": [
    "listita = [1,2,3,4,5,6,7] \n",
    "\n",
    "listita[2]=20 #esto seria un error en una cadena de texto, pero es correcto en una lista.\n",
    "\n",
    "\n",
    "print(listita)\n",
    "\n",
    "listita[3]=\"hola!\"\n",
    "\n",
    "print(listita)\n",
    "\n",
    "listita[1]=[10,11,12] #cada elemento de una lista puede ser cualquier cosa, incluyendo otra lista.\n",
    "\n",
    "print(listita)"
   ]
  },
  {
   "cell_type": "markdown",
   "metadata": {},
   "source": [
    "Si tenemos una lista de listas como\n",
    "\n",
    "```\n",
    "a=[[1,2,3,4],[5,6,7,8],[9,10,11,12]]\n",
    "```\n",
    "\n",
    "y queremos acceder al elemento segundo elemento (indice 1) de la tercera lista (indice 2) usamos:"
   ]
  },
  {
   "cell_type": "code",
   "execution_count": 8,
   "metadata": {},
   "outputs": [
    {
     "name": "stdout",
     "output_type": "stream",
     "text": [
      "10\n",
      "[[1, 2, 30, 4], [5, 6, 7, 8], [9, 10, 11, 12]]\n",
      "[6, 7]\n"
     ]
    }
   ],
   "source": [
    "a=[[1,2,3,4],[5,6,7,8],[9,10,11,12]]\n",
    "\n",
    "print(a[2][1])\n",
    "\n",
    "a[0][2]=30 #tambien podemos usar esta sintaxis para modificar elementos de una lista de listas\n",
    "\n",
    "print(a)\n",
    "\n",
    "print(a[1][1:3]) #podemos usar tambien esta sintaxis para obtener una sub-lista de una de nuestras listas."
   ]
  },
  {
   "cell_type": "markdown",
   "metadata": {},
   "source": [
    "#### Tuplas\n",
    "\n",
    "Son similares a las listas, pero son inmutables. Para definir una tupla, basta poner los elemento separados por comas, aunque suelen encerrarse entre parentesis, por claridad."
   ]
  },
  {
   "cell_type": "code",
   "execution_count": 3,
   "metadata": {},
   "outputs": [
    {
     "name": "stdout",
     "output_type": "stream",
     "text": [
      "(1, 2, 'hola!', 3, [4, 5, 6])\n",
      "(3, 4, 5)\n"
     ]
    }
   ],
   "source": [
    "tup=(1,2,\"hola!\",3,[4,5,6]) #el ultimo elemento de esta tupla es una lista.\n",
    "\n",
    "print(tup)\n",
    "\n",
    "tup2=3,4,5 #tambien se pueden definir sin parentesis, aunque es preferible usarlos\n",
    "\n",
    "print(tup2)"
   ]
  },
  {
   "cell_type": "code",
   "execution_count": 4,
   "metadata": {},
   "outputs": [
    {
     "ename": "TypeError",
     "evalue": "'tuple' object does not support item assignment",
     "output_type": "error",
     "traceback": [
      "\u001b[0;31m---------------------------------------------------------------------------\u001b[0m",
      "\u001b[0;31mTypeError\u001b[0m                                 Traceback (most recent call last)",
      "Input \u001b[0;32mIn [4]\u001b[0m, in \u001b[0;36m<cell line: 3>\u001b[0;34m()\u001b[0m\n\u001b[1;32m      1\u001b[0m tup\u001b[38;5;241m=\u001b[39m(\u001b[38;5;241m1\u001b[39m,\u001b[38;5;241m2\u001b[39m,\u001b[38;5;241m3\u001b[39m,\u001b[38;5;241m4\u001b[39m)\n\u001b[0;32m----> 3\u001b[0m tup[\u001b[38;5;241m1\u001b[39m]\u001b[38;5;241m=\u001b[39m\u001b[38;5;241m10\u001b[39m\n",
      "\u001b[0;31mTypeError\u001b[0m: 'tuple' object does not support item assignment"
     ]
    }
   ],
   "source": [
    "tup=(1,2,3,4)\n",
    "\n",
    "tup[1]=10 #Error! Las tuplas son inmutables, no se pueden modificar\n"
   ]
  },
  {
   "cell_type": "code",
   "execution_count": 5,
   "metadata": {},
   "outputs": [
    {
     "name": "stdout",
     "output_type": "stream",
     "text": [
      "(1, 2, 'hola!', 3, [4, 10, 6])\n"
     ]
    }
   ],
   "source": [
    "tup=(1,2,\"hola!\",3,[4,5,6])\n",
    "\n",
    "tup[-1][1]=10 #esto si es correcto, porque no estamos modificando la tupla, estamos modificando la lista\n",
    "#que va dentro de la tupla.\n",
    "\n",
    "print(tup)"
   ]
  },
  {
   "cell_type": "markdown",
   "metadata": {},
   "source": [
    "#### Diccionarios\n",
    "\n",
    "Similares a las listas, y tambien mutables, pero los elementos _no_ tienen un orden establecido. En lugar de eso, cada elemento o \"valor\" (_value_) del diccionario tiene asociada una \"clave\" (_key_) que se usa para acceder a el.\n",
    "\n",
    "Nota: En las ultimas versiones de Python, los diccionarios muchas veces **si** tienen un orden establecido, pero prefiero ensenar a no depender de eso.\n",
    "\n",
    "Para crear un diccionario, se entregan pares clave/valor separados entre si por dos puntos \":\", cada par separado del siguiente por una come \",\" y todo rodeado por llavas \"{}\""
   ]
  },
  {
   "cell_type": "code",
   "execution_count": 10,
   "metadata": {},
   "outputs": [
    {
     "name": "stdout",
     "output_type": "stream",
     "text": [
      "{'nombre': 'Clara', 'email': 'clara@empresa.cl', 'telefono': 58909222}\n",
      "clara@empresa.cl\n",
      "{'nombre': 'Clara A.', 'email': 'clara@empresa.cl', 'telefono': 58909222}\n",
      "{'nombre': 'Clara A.', 'email': 'clara@empresa.cl', 'telefono': 58909222, 'ciudad': 'Santiago'}\n"
     ]
    }
   ],
   "source": [
    "d={\"nombre\":\"Clara\",\"email\":\"clara@empresa.cl\",\"telefono\":58909222} #Creamos un diccionario\n",
    "\n",
    "print(d)\n",
    "\n",
    "e=d[\"email\"]\n",
    "print(e)\n",
    "\n",
    "d[\"nombre\"]=\"Clara A.\" #Podemos modificar un valor cualquiera del diccionario\n",
    "print(d)\n",
    "\n",
    "d[\"ciudad\"]=\"Santiago\" #Tambien podemos agregar elementos nuevos\n",
    "print(d)"
   ]
  },
  {
   "cell_type": "markdown",
   "metadata": {},
   "source": [
    "## Control de flujo\n",
    "\n",
    "Hasta ahora, todos nuestros programas ejecutan siempre las mismas instrucciones. En realidad, necesitamos que un programa sea capaz que cambiar las instrucciones que ejecuta, dependiendo de los datos que este procesando.\n",
    "\n",
    "Una forma de hacer esto es el constructo **if**. Este constructo ejecuta algo solamente si una operacion da como resultado el valor _booleano_ **True**"
   ]
  },
  {
   "cell_type": "code",
   "execution_count": 13,
   "metadata": {},
   "outputs": [
    {
     "name": "stdout",
     "output_type": "stream",
     "text": [
      "esto se imprime siempre\n",
      "esto solamente se imprime si a es positivo\n",
      "esto tambien!\n",
      "y esto! 30\n",
      "esto se imprime siempre\n"
     ]
    }
   ],
   "source": [
    "a=10 #el valor de a podria ser leido de un archivo, o venir del usuario\n",
    "\n",
    "if a>20:\n",
    "    print(\"esto solo se imprime si a es mayor que 20\")\n",
    "    print(\"esto tambien\")\n",
    "print(\"esto se imprime siempre\")\n",
    "\n",
    "if a>0:\n",
    "    print(\"esto solamente se imprime si a es positivo\")\n",
    "    print(\"esto tambien!\")\n",
    "    b=a+20\n",
    "    print(\"y esto!\",b)\n",
    "print(\"esto se imprime siempre\")"
   ]
  },
  {
   "cell_type": "markdown",
   "metadata": {},
   "source": [
    "Nota que despues del **if** viene una serie de instrucciones que solamente se ejecutan si el argumento de **if** da como resultado **True**. Esas instrucciones que estan \"bajo la influencia\" del **if** forman un _bloque_. En Python, los bloques se delimitan con sangrias (identaciones) (esto es una muy mala idea por varias razones, pero eso asi). Cuando se acaban las sangrias, los elementos dejan de formar parte del _bloque_, y ya no dependen den **if** sino que se ejecutan siempre.\n",
    "\n",
    "Ahora tenemos una forma de ejecutar codigo solamente si una condicion se cumple, y, despues seguir ejecutando codigo tanto si una condicion se cumple, como si no.\n",
    "\n",
    "Pero que pasa si queremos ejecutar un conjunto de instrucciones si la condicion se cumple, y otro conjunto distinto si la condicion _no_ se cumple? para esto existe el constructo **else**"
   ]
  },
  {
   "cell_type": "code",
   "execution_count": 14,
   "metadata": {},
   "outputs": [
    {
     "name": "stdout",
     "output_type": "stream",
     "text": [
      "esto solamente se imprime si a NO es mayor que b\n",
      "esto tambien, solo si a NO es mayor que b\n",
      "esto se imprime siempre\n"
     ]
    }
   ],
   "source": [
    "a=10 #el valor de a podria ser leido de un archivo, o venir del usuario\n",
    "b=20\n",
    "\n",
    "if a>b:\n",
    "    print(\"esto solo se imprime si a es mayor que b\")\n",
    "    print(\"esto tambien\")\n",
    "else:\n",
    "    print(\"esto solamente se imprime si a NO es mayor que b\")\n",
    "    print(\"esto tambien, solo si a NO es mayor que b\")\n",
    "print(\"esto se imprime siempre\")"
   ]
  },
  {
   "cell_type": "markdown",
   "metadata": {},
   "source": [
    "### El _bucle_ **for**\n",
    "\n",
    "En varios casos, necesitamos repetir el mismo set de instrucciones varias veces, pero el numero exacto de veces no es conocido, sino que depende del usuario. Por ejemplo, digamos que queremos calcular el promedio de una lista de numeros. Tenemos que sumar todos los numeros de la lista, y dividirlos entre el total de numeros.\n",
    "Si la lista nos la entrega el usuario, no tenemos manera de saber cuantas veces tenemos que sumar. Para esto sirve el bucle **for**.\n",
    "\n",
    "**for** repite el numero de instrucciones en su _bloque_ tantas veces como elementos tenga una lista, asignando cada vez un elemento de la lista a una variable. Veamoslo con un ejemplo\n"
   ]
  },
  {
   "cell_type": "code",
   "execution_count": 21,
   "metadata": {},
   "outputs": [
    {
     "name": "stdout",
     "output_type": "stream",
     "text": [
      "estamos procesando el elemento 1\n",
      "estamos procesando el elemento 3\n",
      "estamos procesando el elemento 5\n",
      "estamos procesando el elemento 7\n",
      "El promedio es 4.0\n"
     ]
    }
   ],
   "source": [
    "milista=[1,3,5,7]\n",
    "\n",
    "suma=0\n",
    "elementos_totales=0\n",
    "for i in milista:\n",
    "    #todo lo que esta en ese bloque se ejecuta tantas veces somo elementos haya en \"milista\".\n",
    "    #en cada \"iteracion\", se le asigna un nuevo elemento de la lista a la variable i\n",
    "    print(\"estamos procesando el elemento\", i)\n",
    "    suma=suma+i\n",
    "    elementos_totales=elementos_totales+1\n",
    "\n",
    "#termino el \"bloque\" de for. Todo lo que viene se ejecuta una sola vez.\n",
    "promedio=suma/elementos_totales\n",
    "\n",
    "print(\"El promedio es\", promedio)\n",
    "    "
   ]
  },
  {
   "cell_type": "code",
   "execution_count": 22,
   "metadata": {},
   "outputs": [
    {
     "name": "stdout",
     "output_type": "stream",
     "text": [
      "1\n",
      "3\n",
      "5\n",
      "7\n",
      "texto1\n",
      "11\n",
      "13\n",
      "texto2\n",
      "Esto solamente se ejecuta cuando terminamos de iterar por la lista\n"
     ]
    }
   ],
   "source": [
    "milista=[1,3,5,7,\"texto1\",11,13,\"texto2\"]\n",
    "\n",
    "for var in milista:\n",
    "    print(var) #en la primera \"vuelta\" o \"ronda\" var vale 1, despues 3, etc.\n",
    "print(\"Esto solamente se ejecuta cuando terminamos de iterar por la lista\")\n"
   ]
  },
  {
   "cell_type": "markdown",
   "metadata": {},
   "source": [
    "Hay veces que no solamente queremos conocer, en cada ronda de iteracion, el valor del elemento de la lista que corresponde a esa ronda, sino, tambien, el _numero_ de la ronda en si. Por ejemplo, podemos querer saber si el elemento que estamos procesando es el primer, segundo, tercer, o cuarto elemento de la lista. Para esto nos sirve la funcion **enumerate**"
   ]
  },
  {
   "cell_type": "code",
   "execution_count": 23,
   "metadata": {},
   "outputs": [
    {
     "name": "stdout",
     "output_type": "stream",
     "text": [
      "El elemento de la lista con indice 0 vale 1\n",
      "El elemento de la lista con indice 1 vale 3\n",
      "El elemento de la lista con indice 2 vale 5\n",
      "El elemento de la lista con indice 3 vale 7\n",
      "El elemento de la lista con indice 4 vale texto1\n",
      "El elemento de la lista con indice 5 vale 11\n",
      "El elemento de la lista con indice 6 vale 13\n",
      "El elemento de la lista con indice 7 vale texto2\n",
      "Esto solamente se ejecuta cuando terminamos de iterar por la lista\n"
     ]
    }
   ],
   "source": [
    "milista=[1,3,5,7,\"texto1\",11,13,\"texto2\"]\n",
    "\n",
    "for indice,valor in enumerate(milista):\n",
    "    print(\"El elemento de la lista con indice\", indice, \"vale\", valor) \n",
    "print(\"Esto solamente se ejecuta cuando terminamos de iterar por la lista\")"
   ]
  },
  {
   "cell_type": "markdown",
   "metadata": {},
   "source": [
    "Finalmente, hay veces que queremos ejecutar un conjunto de instrucciones un numero (tal vez desconocido) \n",
    "de veces pero no queremos procesar ninguna lista. En ese caso nos ayuda la funcion **range**. Range genera algo parecido a una lista (no nos vamos a meter en detalles), que podemos usar para iterar. "
   ]
  },
  {
   "cell_type": "code",
   "execution_count": 24,
   "metadata": {},
   "outputs": [
    {
     "name": "stdout",
     "output_type": "stream",
     "text": [
      "ejecutando la iteracion 0\n",
      "ejecutando la iteracion 1\n",
      "ejecutando la iteracion 2\n",
      "ejecutando la iteracion 3\n",
      "ejecutando la iteracion 4\n",
      "ejecutando la iteracion 5\n",
      "ejecutando la iteracion 6\n",
      "ejecutando la iteracion 7\n",
      "ejecutando la iteracion 8\n",
      "ejecutando la iteracion 9\n",
      "[0, 1, 2, 3, 4, 5, 6, 7, 8, 9]\n",
      "[2, 3, 4, 5, 6, 7, 8, 9]\n",
      "[2, 5, 8]\n"
     ]
    }
   ],
   "source": [
    "a=10 #digamos que queremos ejecutar un conjunto de instrucciones \"a\" veces.\n",
    "\n",
    "for i in range(a):\n",
    "    print(\"ejecutando la iteracion\", i)\n",
    "\n",
    "#Tambien podemos usar range para generar listas (tenemos que convertir el resultado en una lista)\n",
    "\n",
    "b=list(range(a)) #con list() convertimos lo que produce \"range\" en una lista\n",
    "\n",
    "print(b)\n",
    "c=2\n",
    "b=list(range(c,a)) # Esto nos da una lista que va entre c y a (sin incluir este ultimo)\n",
    "print(b)\n",
    "\n",
    "e=3\n",
    "b=list(range(c,a,e)) #esto nos da una lista que va entre c y a, saltandose  e pasos cada vez\n",
    "print(b)"
   ]
  },
  {
   "cell_type": "markdown",
   "metadata": {},
   "source": [
    "####  **break** y **continue**\n",
    "\n",
    "Hay varias razones por las que podriamos querer detener las iteraciones en un bucle **for**, o saltarnos algunas. Para eso nos sirven **break** y **continue**\n",
    "\n",
    "**break** detiene las iteraciones en un bucle. Por ejemplo digamos que tenemos una lista desconocida, y queremos contar sumar los elementos, pero queremos detener la cuenta si resulta ser mayor que un numero:\n"
   ]
  },
  {
   "cell_type": "code",
   "execution_count": 25,
   "metadata": {},
   "outputs": [
    {
     "name": "stdout",
     "output_type": "stream",
     "text": [
      "Esta no es la suma total, sino que se detiene al llegar a 100 135\n"
     ]
    }
   ],
   "source": [
    "lista=[1,3,6,50,20,55,60,2,6]\n",
    "\n",
    "suma=0 #esta variable va a ir guardando la suma de los elementos de la lista\n",
    "for i in lista:\n",
    "    suma=suma+i\n",
    "    if suma>=100:\n",
    "        break\n",
    "        \n",
    "print(\"Esta no es la suma total, sino que se detiene al llegar a 100. Valor final:\", suma)\n",
    "    "
   ]
  },
  {
   "cell_type": "markdown",
   "metadata": {},
   "source": [
    "Ahora consideremos un caso en el que queremos sumar solamente los elementos de una lista que sean numeros _pares_. Podemos usar **continue**. Continue es similar a **break** pero no termina las iteraciones. Simplemente termina la iteracion actual, y comienza con la siguiente"
   ]
  },
  {
   "cell_type": "code",
   "execution_count": 27,
   "metadata": {},
   "outputs": [
    {
     "name": "stdout",
     "output_type": "stream",
     "text": [
      "20\n"
     ]
    }
   ],
   "source": [
    "lista=[1,2,3,4,5,6,7,8,9] \n",
    "\n",
    "suma=0\n",
    "\n",
    "for i in lista:\n",
    "    if i%2!=0:  #recuerda que i%2 es el resto de la division entre i y 2. != significa \"no igual a\"\n",
    "        continue #si encontramos un numero impar, nos lo saltamos.\n",
    "    suma=suma+i\n",
    "print(suma)"
   ]
  },
  {
   "cell_type": "markdown",
   "metadata": {},
   "source": [
    "## Funciones\n",
    "\n",
    "Las funciones son bloques de codigo que podemos \"llamar\" varias veces. Algunas funciones \"devuelven\" un resultado, como las funciones matematicas. Algunas funciones reciben \"argumentos\", tambien como las funciones matematicas. Algunas funciones no devuelven ningun resultado, y algunas no reciben argumentos.\n",
    "\n",
    "Para definir una funcion se usa la palabra clave **def** seguida del nombre de la funcion y los argumentos que toma. El _bloque_ que sigue a esa definicion va a constituir el codigo que pertenece a esta (el \"cuerpo\" de la funcion)."
   ]
  },
  {
   "cell_type": "code",
   "execution_count": 29,
   "metadata": {},
   "outputs": [
    {
     "name": "stdout",
     "output_type": "stream",
     "text": [
      "hola!\n",
      "5\n"
     ]
    }
   ],
   "source": [
    "def suma(a,b):  #aca definimos la funcion. El nombre de esta es \"suma\" y recibe dos argumentos, a y b\n",
    "    c = a+b\n",
    "    return c #con la palabra clave \"return\" especificamos que la funcion devuelve el valor c. \n",
    "    #cuando la ejecucion llega a \"return\", la ejecucion de la funcion termina.\n",
    " \n",
    "print(\"hola!\")\n",
    "resultado = suma(2,3) #aca llamamos a la funcion suma que definimos mas arriba\n",
    "print(resultado)\n"
   ]
  },
  {
   "cell_type": "markdown",
   "metadata": {},
   "source": [
    "Una funcion cambia el orden de ejecucion normal del programa. En el ejemplo, se comienza ejecutando la linea 6.\n",
    "Luego, al \"llamar\" a la funcion suma, se \"salta\" a la linea 1. las variables a y b adquieren los valores entregados a la funcion (en este caso, 2 y 3, respectivamente) y se ejecuta la linea 2. La linea 3 devuelve la ejecucion a la linea 7, y devuelve tambien el valor c (5, en este caso). Ahora la ejecucion sigue normalmente en la linea 8, donde el programa termina.\n"
   ]
  },
  {
   "cell_type": "code",
   "execution_count": 30,
   "metadata": {},
   "outputs": [
    {
     "name": "stdout",
     "output_type": "stream",
     "text": [
      "Hola Arthur\n",
      "Hola Ford\n"
     ]
    }
   ],
   "source": [
    "def Saludo(nombre):\n",
    "    print(\"Hola\",nombre) #esta funcion no contiene \"return\", por lo que no devuelve ningun valor\n",
    "    #solamente \"hace algo\", en este caso, imprimir un saludo en pantalla\n",
    "    \n",
    "Saludo(\"Arthur\") #La ejecucion salta a la linea 1, y la variable nombre adquiere el valor \"Arthur\".\n",
    "Saludo(\"Ford\")  #La ejecucion vuelve a saltar a la linea 1, y la variable nombre toma el valor \"ford\"\n",
    "#notese que no hay ningun valor devuelto\n"
   ]
  },
  {
   "cell_type": "code",
   "execution_count": 31,
   "metadata": {},
   "outputs": [
    {
     "name": "stdout",
     "output_type": "stream",
     "text": [
      "Hola\n",
      "Hola\n"
     ]
    }
   ],
   "source": [
    "def Saludo():\n",
    "    print(\"Hola\") #esta funcion no contiene \"return\", por lo que no devuelve ningun valor\n",
    "    #tampoco toma ningun argumento! Solamente lo mismo cada vez que se la llama. No es muy\n",
    "    #util, pero se puede hacer.\n",
    "    \n",
    "Saludo()#La ejecucion salta a la linea 1.\n",
    "Saludo()  #La ejecucion vuelve a saltar a la linea 1."
   ]
  },
  {
   "cell_type": "markdown",
   "metadata": {},
   "source": [
    "Las funciones que devuelven valores pueden devolver cualquier tipo de valor:\n",
    "listas, tuplas, diccionarios,texto, etc. Una funcion puede devolver mas de un valor (tecnicamente, devuelve nua tupla de valores)."
   ]
  },
  {
   "cell_type": "code",
   "execution_count": 32,
   "metadata": {},
   "outputs": [
    {
     "name": "stdout",
     "output_type": "stream",
     "text": [
      "4 3\n",
      "[4, 5, 6]\n"
     ]
    }
   ],
   "source": [
    "def sumamult(a,b):\n",
    "    return a+b,a*b #devuelve dos valores (una tupla de dos valores)  \n",
    "\n",
    "\n",
    "def make_list(a,b,c):\n",
    "    return [a,b,c] #devuele una lista con los argumentos\n",
    "\n",
    "suma,mult=sumamult(1,3) #asigna el primer elemento \"devuelto\" a \"suma\" y el segundo a \"mult\"\n",
    "print(suma, mult)\n",
    "\n",
    "lista=make_list(4,5,6)\n",
    "print(lista)\n"
   ]
  },
  {
   "cell_type": "markdown",
   "metadata": {},
   "source": [
    "Ademas de las funciones que nosotros podemos definir, Python contiene varias funciones pre-definidias, como parte del lenguaje (_built-in_). Vamos a ver algunas de ellas:\n"
   ]
  },
  {
   "cell_type": "code",
   "execution_count": null,
   "metadata": {},
   "outputs": [],
   "source": [
    "milista=[1,2,3,4,5]\n",
    "\n",
    "a=len(milista) #len devuelve el numero de elementos de la lista, tupla, texto que se le entregue\n",
    "print(a)\n",
    "\n",
    "a=len(\"un texto cualquiera\") #en este caso, len devuelve el numero de caracteres en la cadena de texto\n",
    "#incluyendo espacios en blanco\n",
    "print(a)\n",
    "\n",
    "a=abs(-2) #abs devuelve el valor absoluto del nombre que se le entregue\n",
    "b=abs(2)\n",
    "print(a,b)\n",
    "\n",
    "b=round(2.2) #round devuelve el numero que se le entregue como argumento, pero redondeado a entero\n",
    "print(b)\n",
    "\n",
    "b=pow(3,2) #pow devuelve el primer numbero que se le entregue elevado al segundo\n",
    "#en este caso, 3 al cuadrado\n",
    "\n",
    "print(b)\n",
    "\n",
    "#algunas funciones pre-definidas que ya habiamos visto son print y range"
   ]
  },
  {
   "cell_type": "markdown",
   "metadata": {},
   "source": [
    "Un tipo especial de funciones son los _metodos_. Los metodos son funciones, pero van \"unidas\" a una variable. La variable a la que un metodo va unido se llama \"receptor\" del metodo. Vamos a ver algunos metodos que vienen unidos a distintos tipos de variables\n",
    "\n",
    " #### Metodos de cadenas de texto\n"
   ]
  },
  {
   "cell_type": "code",
   "execution_count": 33,
   "metadata": {},
   "outputs": [
    {
     "name": "stdout",
     "output_type": "stream",
     "text": [
      "otra cadena de texto\n",
      "unacadenadetexto\n",
      "5.5\n"
     ]
    }
   ],
   "source": [
    "#Toda variable de tipo texto tiene una serie de metodos definidos.\n",
    "\n",
    "a=\"una cadena de texto\"\n",
    "\n",
    "#\n",
    "# El metodo replace\n",
    "#\n",
    "b=a.replace(\"una\",\"otra\") #devuelve una nueva cadena de texto en la que se ha reemplazado todas las ocurrencias\n",
    "#del primer argumento (\"una\" en este caso) por el segundo argumento (\"otra\")\n",
    "\n",
    "print(b)\n",
    "\n",
    "b=a.replace(\" \",\"\") #en este caso reemplazamos todos los espacios en blanco por nada. Es decir, sacamos los\n",
    "#espacios\n",
    "\n",
    "print(b)\n",
    "\n",
    "numero_espanol=\"5,5\"\n",
    "numero_ingles=numero_espanol.replace(\",\",\".\")\n",
    "print(numero_ingles)\n"
   ]
  },
  {
   "cell_type": "code",
   "execution_count": 34,
   "metadata": {},
   "outputs": [
    {
     "name": "stdout",
     "output_type": "stream",
     "text": [
      "['una', 'cadena', 'de', 'texto']\n",
      "['elemento1', 'elemento2', 'elemento3']\n"
     ]
    }
   ],
   "source": [
    "#\n",
    "# El metodo split \n",
    "#\n",
    "a=\"una cadena de texto\"\n",
    "\n",
    "b=a.split() # \"parte\" la cadena en \"trozos\" y devuelve una lista de cadenas de texto, un elemento \n",
    "#por cada \"trozo\". Si no se le da ningun argumento \"parte\" la cadena en los espacios en blanco. \n",
    "print(b)\n",
    "\n",
    "a=\"elemento1,elemento2,elemento3\"\n",
    "b=a.split(\",\") #pero podemos darle el separador que queramos\n",
    "print(b)\n"
   ]
  },
  {
   "cell_type": "code",
   "execution_count": 35,
   "metadata": {},
   "outputs": [
    {
     "name": "stdout",
     "output_type": "stream",
     "text": [
      "una lista de palabras\n",
      "una**lista**de**palabras\n",
      "una,lista,de,palabras\n"
     ]
    }
   ],
   "source": [
    "#\n",
    "# El metodo join\n",
    "#\n",
    "a=\" \"\n",
    "b=[\"una\",\"lista\",\"de\",\"palabras\"]\n",
    "\n",
    "c=a.join(b) # une una lista de cadenas de texto en una sola cadena, utilizando como separador la cadena inicial\n",
    "\n",
    "print(c)\n",
    "\n",
    "a=\"**\"\n",
    "c=a.join(b) #podemos usar el separador que queramos\n",
    "print(c)\n",
    "\n",
    "c=\",\".join(b) #no necesariamente tiene que estar en una variable tiene que estar en una variable\n",
    "\n",
    "print(c)"
   ]
  },
  {
   "cell_type": "code",
   "execution_count": 3,
   "metadata": {},
   "outputs": [
    {
     "name": "stdout",
     "output_type": "stream",
     "text": [
      "False True\n",
      "False True\n"
     ]
    }
   ],
   "source": [
    "#\n",
    "# Los metodos startswith and endswith\n",
    "#\n",
    "\n",
    "#startswith devuelve True si la cadena de texto empieza con el texto dado como argumento a la funcion, \n",
    "#. Si no, devuelve False\n",
    "a=\"una cadena de texto\"\n",
    "\n",
    "b=a.startswith(\"u\")\n",
    "c=a.startswith(\"U\") #Python es sensible a mayusculas, es decir \"A\" es una letra distinta de \"a\"\n",
    "\n",
    "print(b,c)\n",
    "\n",
    "#endswith es similar, pero devuelve True si la cadena de texto _termina_ con el texto \n",
    "#dado como argumento a la funcion, Si no, devuelve False\n",
    "\n",
    "\n",
    "b=a.endswith(\"o\")\n",
    "c=a.endswith(\"a\")\n",
    "\n",
    "print(b,c)\n"
   ]
  },
  {
   "cell_type": "markdown",
   "metadata": {},
   "source": [
    "Existen varios otros metodo de cadenas de texto que pueden encontrar buscando en Internet.\n",
    "\n",
    "#### Metodos de listas\n",
    "\n",
    "Vamos a ver dos metodos de listas: **append** y **sort**. El primero es muy importante,\n",
    "se usa con mucha frecuencia.\n",
    "\n"
   ]
  },
  {
   "cell_type": "code",
   "execution_count": 4,
   "metadata": {},
   "outputs": [
    {
     "name": "stdout",
     "output_type": "stream",
     "text": [
      "[2, 4, 6, 10]\n"
     ]
    }
   ],
   "source": [
    "#\n",
    "# El metodo append sirve para agregar valores a una lista\n",
    "#\n",
    "\n",
    "milista=[1,2,3,4,5,6]\n",
    "\n",
    "milista.append(10)\n",
    "\n",
    "lista2=[]\n",
    "\n",
    "#vamos a agregar a lista2 solamente los valores de milista que sean pares\n",
    "\n",
    "for i in milista:\n",
    "    if i%2!=0:\n",
    "        continue\n",
    "    lista2.append(i)\n",
    "\n",
    "print(lista2)"
   ]
  },
  {
   "cell_type": "code",
   "execution_count": 8,
   "metadata": {},
   "outputs": [
    {
     "name": "stdout",
     "output_type": "stream",
     "text": [
      "[-1, 0, 2, 3, 8, 40, 45]\n",
      "['Amanda', 'Andres', 'Berta', 'Clara']\n",
      "[45, 40, 8, 3, 2, 0, -1]\n",
      "['Clara', 'Berta', 'Andres', 'Amanda']\n"
     ]
    }
   ],
   "source": [
    "#\n",
    "# el metodo sort ordena una lista en forma ascendente. Si la lista contiene cadenas de texto, estas quedan\n",
    "# en orden alfabetico\n",
    "#\n",
    "\n",
    "l=[3,8,2,0,-1,40,45]\n",
    "l.sort() #sort no devuelve una nueva lista, sino que modifica la lista original\n",
    "print(l)\n",
    "\n",
    "l2=[\"Clara\",\"Andres\",\"Amanda\",\"Berta\"]\n",
    "l2.sort()\n",
    "print(l2)\n",
    "\n",
    "#Es posible entregar un argumento a sort para que ordene la lista en orden descendente\n",
    "\n",
    "l.sort(reverse=True)\n",
    "print(l)\n",
    "l2.sort(reverse=True)\n",
    "print(l2)"
   ]
  },
  {
   "cell_type": "code",
   "execution_count": 9,
   "metadata": {},
   "outputs": [
    {
     "ename": "TypeError",
     "evalue": "'<' not supported between instances of 'str' and 'int'",
     "output_type": "error",
     "traceback": [
      "\u001b[0;31m---------------------------------------------------------------------------\u001b[0m",
      "\u001b[0;31mTypeError\u001b[0m                                 Traceback (most recent call last)",
      "Input \u001b[0;32mIn [9]\u001b[0m, in \u001b[0;36m<cell line: 3>\u001b[0;34m()\u001b[0m\n\u001b[1;32m      1\u001b[0m l3\u001b[38;5;241m=\u001b[39m[\u001b[38;5;241m3\u001b[39m,\u001b[38;5;241m8\u001b[39m,\u001b[38;5;241m2\u001b[39m,\u001b[38;5;241m0\u001b[39m,\u001b[38;5;241m-\u001b[39m\u001b[38;5;241m1\u001b[39m,\u001b[38;5;124m\"\u001b[39m\u001b[38;5;124mAmanda\u001b[39m\u001b[38;5;124m\"\u001b[39m,\u001b[38;5;124m\"\u001b[39m\u001b[38;5;124mBerta\u001b[39m\u001b[38;5;124m\"\u001b[39m]\n\u001b[0;32m----> 3\u001b[0m l3\u001b[38;5;241m.\u001b[39msort()\n",
      "\u001b[0;31mTypeError\u001b[0m: '<' not supported between instances of 'str' and 'int'"
     ]
    }
   ],
   "source": [
    "l3=[3,8,2,0,-1,\"Amanda\",\"Berta\"]\n",
    "\n",
    "l3.sort() #error! la lista tiene que contener solamente elementos numericos, o solamente cadenas de texto\n"
   ]
  },
  {
   "cell_type": "markdown",
   "metadata": {},
   "source": [
    "## La libreria estandar\n",
    "\n",
    "Ademas de las funciones que vienen en el lenguaje (_build in_) Python dispone de una libreria estandar que podemos llamar, y que nos entrega una gran cantidad de funciones utiles. Aca vamos a ver solamente algunos pocos ejemplos.\n",
    "\n",
    "Para usar una parte de la libreria estandar tenemos que \"importarla\"\n",
    "\n",
    "Veamos primero la libreria math, que tiene funciones y variables pre-definidas"
   ]
  },
  {
   "cell_type": "code",
   "execution_count": 11,
   "metadata": {},
   "outputs": [
    {
     "name": "stdout",
     "output_type": "stream",
     "text": [
      "3.141592653589793\n",
      "6.123233995736766e-17\n",
      "2.718281828459045\n",
      "1.0\n"
     ]
    }
   ],
   "source": [
    "import math #importamos la libreria math, parte de la libreria estandar de Python\n",
    "\n",
    "print(math.pi) # math.pi indica la variable pi, que es parte de la libreria math. \n",
    "\n",
    "a = math.cos(math.pi/2) # math.cos es la funcion cos, parte de la libreria math. devuelve el coseno\n",
    "#de lo que le entreguemos como argumento (math.cos asume que el argumento esta en radiantes)\n",
    "\n",
    "print(a)\n",
    "\n",
    "print(math.e) #math.e es e, el numero de Euler, la base del logaritmo natural\n",
    "\n",
    "print(math.log(math.e)) #math.log devuelve el logaritmo natural de lo que se le de como argumento"
   ]
  },
  {
   "cell_type": "code",
   "execution_count": 12,
   "metadata": {},
   "outputs": [
    {
     "name": "stdout",
     "output_type": "stream",
     "text": [
      "['/usr/lib/python3.10/site-packages/ipykernel_launcher.py', '-f', '/home/rmera/.local/share/jupyter/runtime/kernel-41a3e023-a160-4e2b-968a-ef87b19703e9.json']\n"
     ]
    }
   ],
   "source": [
    "import sys #sys es otra libreria muy importante. Nos permite leer input del usuario\n",
    "\n",
    "#la variable mas importante de sys es sys.argv\n",
    "\n",
    "#sys.argv es una lista. Su primer elemento, sys.argv[0] es el nombre con el que se \n",
    "#\"llamo\" a nuestro programa. Su segundo elemento, sys.argv[1] \n",
    "#es el primer parametro entregado por el usuario al llamar al programa, su tercer elemento, sys.argv[2]\n",
    "#es el segundo parametro entregado por el usuario, y asi sucesivamente. Todos los parametros que el\n",
    "#usuario entregue quedan registrados como _cadenas de texto_ en sys.argv\n",
    "\n",
    "#por ejemplo, si nuestro programa se llama \"filter.py\" y el usuario lo llama con el siguiente comando:\n",
    "\n",
    "# ./filter.py archivo1.txt archivo2.txt \n",
    "\n",
    "#sys.argv va a valer: [\"./filter.py\",\"archivo1.txt\",\"archivo2.txt\"]\n",
    "\n",
    "#sys.argv es la mejor manera de obtener informacion del usuario, y la unica que vamos a ver aqui.\n",
    "\n",
    "print(sys.argv) #en este caso, sys.argv contiene la informacion que use Jupyter ejecutar nuestro codigo \n"
   ]
  },
  {
   "cell_type": "code",
   "execution_count": 22,
   "metadata": {},
   "outputs": [
    {
     "name": "stdout",
     "output_type": "stream",
     "text": [
      "/wrk/PythonTeaching/TEST\n"
     ]
    }
   ],
   "source": [
    "import os #os contiene funciones y variables para acceder al sistema operativo\n",
    "\n",
    "print(os.getcwd()) #os.getcwd es una funcion que devuelve una cadena de texto con el directorio/carpeta actual.\n",
    "\n"
   ]
  },
  {
   "cell_type": "code",
   "execution_count": 23,
   "metadata": {},
   "outputs": [
    {
     "name": "stdout",
     "output_type": "stream",
     "text": [
      "/wrk/PythonTeaching/TEST\n",
      "/wrk/PythonTeaching\n"
     ]
    }
   ],
   "source": [
    "original=os.getcwd()\n",
    "\n",
    "\n",
    "\n",
    "os.chdir(\"TEST\") #cambia el directorio actual a TEST\n",
    "\n",
    "print(os.getcwd()) #ahora nuestro directorio actual es TEST, dentro de nuestro directorio anterior\n",
    "\n",
    "os.chdir(original) #volvemos a nuestro directorio original\n",
    "\n",
    "print(os.getcwd())"
   ]
  },
  {
   "cell_type": "markdown",
   "metadata": {},
   "source": [
    "## Leyendo archivos\n",
    "\n",
    "Vamos a ver como leer archivos en Python. Tambien es posible escribir texto en archivos, pero, ademas de ser facil, rara vez es necesario (en Unix). Generalmente es preferible escribir en la salida estandar (monitor) y dejar que el usuario redirija el texto a un archivo si lo cree necesario.\n",
    "\n",
    "Para leer un archivo, este debe abrirse con la funcion **open**, una de las funciones que son parte del lenguaje, como **len**, **abs**, etc.\n"
   ]
  },
  {
   "cell_type": "code",
   "execution_count": 26,
   "metadata": {},
   "outputs": [
    {
     "name": "stdout",
     "output_type": "stream",
     "text": [
      "primera linea: spam, eggs and bacon\n",
      "\n",
      "spam, bacon and spam\n",
      "\n",
      "spam, spam, spam, eggs, bacon and spam\n",
      "\n"
     ]
    }
   ],
   "source": [
    "handle = open(\"nombres.dat\",\"r\") #el primer argumento de open es el nombre del archivo, el segundo \"r\"\n",
    "#significa que lo estamos abriendo para leerlo (\"reading\") no para escribir en el.\n",
    "\n",
    "#open devuelve una representacion del archivo que tiene varios metodos que podemos usar para extraer informacion\n",
    "\n",
    "primera=handle.readline() #este metodo nos devuelve una linea del archivo cada vez que lo llamamos. La primera\n",
    "#llamada nos devuelve la primera linea del archivo, la segunda, la segunda linea, y asi.\n",
    "\n",
    "print(\"primera linea:\", primera)\n",
    "\n",
    "#lo siguiente nos permite iterar por las lineas del archivo como si fuera una lista o tupla.\n",
    "# en cada vuelta, se le asigna una linea del archivo a i. Notese que las lineas previamente\n",
    "#leidas no se incluyen\n",
    "for i in handle:\n",
    "    print(i)\n",
    "    \n",
    "handle.close() #cerramos el archivo"
   ]
  },
  {
   "cell_type": "markdown",
   "metadata": {},
   "source": [
    "## Temas especializados\n",
    "\n",
    "### Formateando cadenas de texto\n",
    "\n",
    "Digamos que queremos una cadena de textos que incluye numeros. Como podriamos hacerlo?\n",
    "\n",
    "Una forma es simplemente transformar los numeros en cadenas de texto con la funcion **str** y juntar esa cadena con el resto"
   ]
  },
  {
   "cell_type": "code",
   "execution_count": 3,
   "metadata": {},
   "outputs": [
    {
     "name": "stdout",
     "output_type": "stream",
     "text": [
      "mi cadena de texto 1.4569888888888889\n"
     ]
    }
   ],
   "source": [
    "a=\"mi cadena de texto\"\n",
    "num=1.456988888888888888\n",
    "\n",
    "b=a+\" \"+str(num)\n",
    "\n",
    "print(b)"
   ]
  },
  {
   "cell_type": "markdown",
   "metadata": {},
   "source": [
    "El problema con esa solucion, es que el numero no tiene _formato_ \n",
    "\n",
    "\n",
    "En Python podemos crear cadenas de texto que incluyan numeros con formato. De hecho, hay dos formas distintas de lograr esto. En este tutorial veremos la forma \"antigua\", que la mayoria de los programadores en Python no prefiere. Yo estoy entre la minoria que _si_ prefiere esta forma, principalmente porque es el mismo metodo utilizado en otros lenguajes de programacion. \n",
    "\n",
    "Vamos a crear la misma cadena anterior pero asegurandonos de incluir solo 4 cifras despues del punto decimal.\n"
   ]
  },
  {
   "cell_type": "code",
   "execution_count": 5,
   "metadata": {},
   "outputs": [
    {
     "name": "stdout",
     "output_type": "stream",
     "text": [
      "mi cadena de texto 1.4570\n"
     ]
    }
   ],
   "source": [
    "num=1.456988888888888888\n",
    "a=\"mi cadena de texto %6.4f\"%(num)\n",
    "\n",
    "print(a)"
   ]
  },
  {
   "cell_type": "markdown",
   "metadata": {},
   "source": [
    "La parte importante es \"\\%6.4f\" En una cadena de texto, el simbolo \"%\" indica que vamos a insertar el valor de una variable en ese lugar. La letra \"f\" al final, nos indica que la variable es un **float**. 6.4 indica que el numero va a ocupar 6 espacios en total (incluyendo el punto decimal) y que vamos a usar 4 cifras despues del punto decimal.\n",
    "\n",
    "Al final de la cadena de texto, insertamos otro \"%\" seguido de una tupla, que contiene los valores que vamos a insertar en la cadena de texto, en el mismo orden en el que aparecen en la cadena.\n",
    "\n",
    "Podemos asignarle mas espacio a nuestro numero. Si el numero no es lo suficientemente grande para llenar el espacio que le asignemos, los demas espacios se llenan con espacios en blanco."
   ]
  },
  {
   "cell_type": "code",
   "execution_count": 7,
   "metadata": {},
   "outputs": [
    {
     "name": "stdout",
     "output_type": "stream",
     "text": [
      "Un numero:    1.4570\n"
     ]
    }
   ],
   "source": [
    "num=1.456988888888888888\n",
    "a=\"Un numero: %9.4f\"%(num) #si usamos solo 4 decimales, num no alcanza a ocupar 9 espacios\n",
    "#por lo que se agregan espacios en blanco\n",
    "print(a)"
   ]
  },
  {
   "cell_type": "markdown",
   "metadata": {},
   "source": [
    "A veces podemos querer que los espacios que el numero no ocupe se rellenen con 0, no con espacios en blanco. \n",
    "Eso es facil de hacer, solo hay que agregar un 0 entre \"\\%\" y el primer numero (9, en este caso)"
   ]
  },
  {
   "cell_type": "code",
   "execution_count": 8,
   "metadata": {},
   "outputs": [
    {
     "name": "stdout",
     "output_type": "stream",
     "text": [
      "Un numero: 0001.4570\n"
     ]
    }
   ],
   "source": [
    "num=1.456988888888888888\n",
    "a=\"Un numero: %09.4f\"%(num) #Todo igual que antes, salvo por el 0 depsues del %\n",
    "\n",
    "print(a)"
   ]
  },
  {
   "cell_type": "markdown",
   "metadata": {},
   "source": [
    "Si queremos imprimir un numero entero, es mas facil todavia. En vez de \"f\" se usa \"d\", y no se agrega el punto \n",
    "ni el numero de cifras despues del punto decimal"
   ]
  },
  {
   "cell_type": "code",
   "execution_count": 11,
   "metadata": {},
   "outputs": [
    {
     "name": "stdout",
     "output_type": "stream",
     "text": [
      "Un numero: 89\n",
      "El mismo numero, con mas espacios:   89\n",
      "Igual que lo anterior, pero completando con ceros 0089\n"
     ]
    }
   ],
   "source": [
    "entero=89\n",
    "\n",
    "a=\"Un numero: %2d\"%(entero)\n",
    "\n",
    "print(a)\n",
    "\n",
    "b=\"El mismo numero, con mas espacios: %4d\"%(entero)\n",
    "\n",
    "print(b)\n",
    "\n",
    "c=\"Igual que lo anterior, pero completando con ceros %04d\"%(entero)\n",
    "\n",
    "print(c)"
   ]
  },
  {
   "cell_type": "code",
   "execution_count": null,
   "metadata": {},
   "outputs": [],
   "source": [
    "Podemos tambien agregar variables que sean cadenas de texto. Si queremos, podemos especificar el \n",
    "espacio que vamos a asignarles\n",
    "\n"
   ]
  },
  {
   "cell_type": "code",
   "execution_count": 12,
   "metadata": {},
   "outputs": [
    {
     "name": "stdout",
     "output_type": "stream",
     "text": [
      "El saludo es: Hola\n",
      "El saludo es   Hola\n"
     ]
    }
   ],
   "source": [
    "saludo=\"Hola\"\n",
    "\n",
    "a=\"El saludo es: %s\"%(saludo)\n",
    "print(a)\n",
    "\n",
    "b=\"El saludo es: %6s\"%(saludo) #aca dejamos mas espacio para la cadena\n",
    "print(b)\n",
    "\n",
    "\n",
    "\n"
   ]
  },
  {
   "cell_type": "markdown",
   "metadata": {},
   "source": [
    "En todos los ejemplos anteriores, el valor que vamos a insertar se _alinea_ hacia la derecha \n",
    "(es decir, si sobra espacio, se insertan espacios en blanco a la izquierda del valor). Podemos cambiar este \n",
    "comportamiento alineando a la izquierda agregando un signo \"-\" despues del \"%\""
   ]
  },
  {
   "cell_type": "code",
   "execution_count": 16,
   "metadata": {},
   "outputs": [
    {
     "name": "stdout",
     "output_type": "stream",
     "text": [
      "El saludo es: **  Hola**\n",
      "El saludo es: **Hola  **\n",
      "Numero con espacios espacios: ***  89***\n",
      "Numero con espacios ***89  ***\n",
      "Un numero: ***   1.4570***\n",
      "Un numero: ***1.4570   ***\n"
     ]
    }
   ],
   "source": [
    "b=\"El saludo es: **%6s**\"%(saludo) #Alineando a la derecha\n",
    "print(b)\n",
    "b=\"El saludo es: **%-6s**\"%(saludo) #A la izquierda\n",
    "print(b)\n",
    "\n",
    "#Tambien funciona con numeros\n",
    "\n",
    "entero=89\n",
    "\n",
    "b=\"Numero con espacios espacios: ***%4d***\"%(entero)\n",
    "\n",
    "print(b)\n",
    "\n",
    "c=\"Numero con espacios ***%-4d***\"%(entero)\n",
    "\n",
    "print(c)\n",
    "\n",
    "#Y con decimales\n",
    "\n",
    "num=1.456988888888888888\n",
    "a=\"Un numero: ***%9.4f***\"%(num) \n",
    "print(a)\n",
    "a=\"Un numero: ***%-9.4f***\"%(num) \n",
    "print(a)\n"
   ]
  },
  {
   "cell_type": "code",
   "execution_count": 18,
   "metadata": {},
   "outputs": [
    {
     "name": "stdout",
     "output_type": "stream",
     "text": [
      "Hola! Ud. tiene 89 monedas, cada una por una valor de 007.46 pesos\n",
      "Hola! Ud. tiene 89 monedas, cada una por una valor de   7.46 pesos\n"
     ]
    }
   ],
   "source": [
    "##Ahora probemos combinando todo, insertando varias variables en nuestro texto\n",
    "\n",
    "entero=89\n",
    "decimal=7.4598777777\n",
    "texto=\"Hola!\"\n",
    "\n",
    "a=\"%s Ud. tiene %2d monedas, cada una por una valor de %06.2f pesos\"%(texto,entero,decimal)\n",
    "\n",
    "print(a)\n",
    "\n",
    "# Por supuesto podemos tambien imprimir directamente nuestra cadena de texto, sin ponerla \n",
    "# en una variable\n",
    "\n",
    "print(\"%s Ud. tiene %2d monedas, cada una por una valor de %6.2f pesos\"%(texto,entero,decimal))\n",
    "\n"
   ]
  },
  {
   "cell_type": "markdown",
   "metadata": {},
   "source": [
    "Una ultima cosa, que ocurre si queremos incluir el signo \"%\" en nuestra cadena de texto?\n",
    "como hacemos para que se interprete como literalmente ese signo, y no que vamos a insertar\n",
    "un valor?\n",
    "\n",
    "Simplemente, ponemos el \"%\" dos veces. Va a aparecer una vez en la cadena de texto\n"
   ]
  },
  {
   "cell_type": "code",
   "execution_count": 21,
   "metadata": {},
   "outputs": [
    {
     "name": "stdout",
     "output_type": "stream",
     "text": [
      "Un 5.7% de los intentos, fracasa\n",
      "Nadie tiene 0% de probabilidades de lograrlo\n"
     ]
    }
   ],
   "source": [
    "dec=5.678\n",
    "\n",
    "a=\"Un %3.1f%% de los intentos, fracasa\"%(dec)\n",
    "print(a)\n",
    "\n",
    "nombre=\"Nadie\"\n",
    "print(\"%s tiene 0%% de probabilidades de lograrlo\"%(nombre))"
   ]
  },
  {
   "cell_type": "markdown",
   "metadata": {},
   "source": [
    "### Numpy\n",
    "\n",
    "Numpy es la principal libreria de matematicas en Python. O, al menos, la mas \"fundamental\" en el sentido de que casi todas las otras depende de ella.\n",
    "\n",
    "Numpy define un nuevo tipo, el _array_. Un _array_ representa a un vector o una matriz (o una \"hiper-matriz\" de N dimensiones). El _array_ es similar a una lista de listas, con algunas diferencias.\n",
    "\n",
    "- Un _array_ no es inmutable, en el sentido de que sus elementos se pueden modificar, pero el numero de \n",
    "elementos totales del array es fijo\n",
    "\n",
    "- Un _array_ solamente contiene numeros (en coma flotante)\n",
    "\n",
    "Un array contiene una serie de metodos utiles.\n",
    "\n"
   ]
  },
  {
   "cell_type": "code",
   "execution_count": 25,
   "metadata": {},
   "outputs": [
    {
     "name": "stdout",
     "output_type": "stream",
     "text": [
      "[[1 2 3]\n",
      " [4 5 6]\n",
      " [7 8 9]]\n",
      "9\n",
      "5.0 2.581988897471611\n",
      "[[10 20 30]\n",
      " [40 50 60]\n",
      " [70 80 90]]\n",
      "[[ 10  40  90]\n",
      " [160 250 360]\n",
      " [490 640 810]]\n",
      "[138 171 204]\n"
     ]
    }
   ],
   "source": [
    "import numpy as np #necesitamos importar la libreria numpy para poder usarla. Todas las funciones de numpy\n",
    "#van a comenzar con \"np.\"\n",
    "\n",
    "listadelistas=[[1,2,3],[4,5,6],[7,8,9]]\n",
    "\n",
    "matrix=np.array(listadelistas) #creamos un array de numpy a partir de una lista de listas con la funcion np.array\n",
    "\n",
    "print(matrix)\n",
    "\n",
    "print(matrix.max()) #el elemento de mayor valor en la matriz\n",
    "print(matrix.mean(),matrix.std()) #la media (promedio) de los elementos de la matrix, y su desviacion estandar\n",
    "\n",
    "m2=matrix*10 #cada elemento se multiplica por 10. Mucho mas rapido que usar un \"for\"\n",
    "\n",
    "print(m2)\n",
    "\n",
    "vector=np.array([10,11,12])\n",
    "\n",
    "print(matrix*m2) #esta es la multiplicacion elemento por elemento, no la multiplicacion matricial\n",
    "\n",
    "v2=np.dot(vector,matrix) #np.dot es la multiplicacion matricial.\n",
    "print(v2)\n",
    "\n"
   ]
  },
  {
   "cell_type": "markdown",
   "metadata": {},
   "source": [
    "### Variables y _referencias (tema avanzado)\n",
    "\n",
    "Una variable es una \"cajita\" que contiene un valor. Por ejemplo,  si hacemos\n",
    "\n",
    "```\n",
    "a = 12\n",
    "```\n",
    "\n",
    "a es una variable que contiene el valor 12. El valor 12 se guarda en algun sector de la memoria de nuestro computador (ese sector tiene asociado un numero o _direccion_) y se asocia a esa variable.\n",
    "\n",
    "Sin embargo, algunas variables no contienen un valor _per se_, sino que contienen _la direccion en la memoria_ de un valor, o una _referencia_ a una valor. Este es el caso de las listas. \n",
    "\n"
   ]
  },
  {
   "cell_type": "code",
   "execution_count": 27,
   "metadata": {},
   "outputs": [
    {
     "name": "stdout",
     "output_type": "stream",
     "text": [
      "[4, 5, 6, [1, 2, 3]]\n",
      "Esto es esperable: [4, 5, 6, [1, 2, 99]]\n",
      "Esto no es tan esperable!: [1, 2, 99]\n"
     ]
    }
   ],
   "source": [
    "l1=[1,2,3]\n",
    "\n",
    "l2=[4,5,6,l1]\n",
    "\n",
    "print(l2) #l2 es una lista que contiene a la lista l1\n",
    "\n",
    "l2[3][2]=99\n",
    "\n",
    "print(\"Esto es esperable:\", l2) #esto es totalmente esperable\n",
    "\n",
    "\n",
    "#puesto que l2 no contiene una copia de los valores de l1, sino que contiene la direccion en la memoria de l1, \n",
    "#si modificamos a l1 dentro de l2, estamos modificando lo que hay en esa direccion en la memoria (l1), por lo \n",
    "#que el cambio tambien se ve en l1\n",
    "print(\"Esto no es tan esperable!:\", l1)\n",
    "\n"
   ]
  },
  {
   "cell_type": "code",
   "execution_count": null,
   "metadata": {},
   "outputs": [],
   "source": [
    "l1=[1,2,3]\n",
    "\n",
    "l2=[4,5,6,l1]\n",
    "\n",
    "print(l2) #l2 es una lista que contiene a la lista l1\n",
    "\n",
    "l1[0]=99\n",
    "\n",
    "print(\"Esto es esperable:\", l1) d\n",
    "\n",
    "\n",
    "#Tambien funciona al reves! si modificamos l1, l2 tambien se modifica\n",
    "#porque no tiene una copia de los valores de l1, sino la direccion en la memoria de esa variable. Si lo que\n",
    "#hay en esa direccion (l1) se modifica, el cambio tambien se refleja en l2\n",
    "print(\"Esto no es tan esperable!:\", l2)\n",
    "\n"
   ]
  },
  {
   "cell_type": "code",
   "execution_count": 30,
   "metadata": {},
   "outputs": [
    {
     "name": "stdout",
     "output_type": "stream",
     "text": [
      "[1, 2, 3]\n",
      "[10, 2, 3]\n",
      "aca a no se modifica!: 1\n"
     ]
    }
   ],
   "source": [
    "a=1\n",
    "l=[a,2,3]\n",
    "print(l)\n",
    "l[0]=10\n",
    "\n",
    "print(l)\n",
    "\n",
    "#por que en este caso a no se modifica? Es porque, como vimos antes\n",
    "#los numeros, los booleanos, las tuplas y las cadenas de texto son\n",
    "#inmutables. No se pueden modificar. Entonces, al modificar l[0] no\n",
    "#modificamos a, sino que asignamos otra nueva variable a l[0]\n",
    "print(\"aca a no se modifica!:\",a)\n",
    "\n"
   ]
  },
  {
   "cell_type": "code",
   "execution_count": 31,
   "metadata": {},
   "outputs": [
    {
     "name": "stdout",
     "output_type": "stream",
     "text": [
      "[1, 2, 3]\n",
      "200\n",
      "l no se modifica: [1, 2, 3]\n"
     ]
    }
   ],
   "source": [
    "a=1\n",
    "l=[a,2,3]\n",
    "print(l)\n",
    "a=200\n",
    "print(a)\n",
    "\n",
    "#al reves pasa lo mismo. Como a es inmutable, si la cambiamos, no estamos cambiando la variable a\n",
    "#estamos creando una nueva y asignandole el nombre \"a\", mientras que la lista l sigue conteniendo la\n",
    "#referencia a la variable antigua.\n",
    "\n",
    "print(\"l no se modifica:\",l)"
   ]
  },
  {
   "cell_type": "markdown",
   "metadata": {},
   "source": [
    "Esto es un poco complejo, pero, la moraleja es, cuidado con las listas de listas, o listas de diccionarios."
   ]
  },
  {
   "cell_type": "code",
   "execution_count": null,
   "metadata": {},
   "outputs": [],
   "source": []
  }
 ],
 "metadata": {
  "kernelspec": {
   "display_name": "Python 3 (ipykernel)",
   "language": "python",
   "name": "python3"
  },
  "language_info": {
   "codemirror_mode": {
    "name": "ipython",
    "version": 3
   },
   "file_extension": ".py",
   "mimetype": "text/x-python",
   "name": "python",
   "nbconvert_exporter": "python",
   "pygments_lexer": "ipython3",
   "version": "3.10.6"
  }
 },
 "nbformat": 4,
 "nbformat_minor": 4
}
